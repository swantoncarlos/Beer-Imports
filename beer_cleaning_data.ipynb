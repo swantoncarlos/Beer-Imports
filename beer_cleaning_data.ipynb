{
 "cells": [
  {
   "cell_type": "code",
   "execution_count": 1,
   "id": "f79c9543-f163-41cf-853c-90550f4cf02a",
   "metadata": {},
   "outputs": [],
   "source": [
    "# import libraries:\n",
    "import pandas as pd \n",
    "import numpy as np \n",
    "import os "
   ]
  },
  {
   "cell_type": "code",
   "execution_count": 2,
   "id": "e0752c9e-4986-449f-8e16-fda1f77184e5",
   "metadata": {},
   "outputs": [
    {
     "name": "stdout",
     "output_type": "stream",
     "text": [
      "1\n",
      "2\n",
      "3\n",
      "4\n",
      "5\n",
      "6\n",
      "Number of files in the directory: 6\n"
     ]
    }
   ],
   "source": [
    "# set path: \n",
    "os.chdir(\"/Users/carlosswanton/Desktop/Proyecto - Py/beer_data\")\n",
    "# get a list of the files in the directory:\n",
    "data = os.listdir()\n",
    "# create an empty dataframe: \n",
    "df = pd.DataFrame()\n",
    "# count files in directory:\n",
    "count = 0 \n",
    "for database in data: \n",
    "    count+=1 \n",
    "    print(count) \n",
    "print(\"Number of files in the directory: \" + str(count))"
   ]
  },
  {
   "cell_type": "code",
   "execution_count": 3,
   "id": "d2761c93-445f-4332-bffd-0db20774c3b0",
   "metadata": {},
   "outputs": [
    {
     "name": "stdout",
     "output_type": "stream",
     "text": [
      "Databases left to concat: 5\n",
      "Databases left to concat: 4\n",
      "Databases left to concat: 3\n",
      "Databases left to concat: 2\n",
      "Databases left to concat: 1\n",
      "Databases left to concat: 0\n",
      "Done\n"
     ]
    }
   ],
   "source": [
    "# loop thru the directory to make a concat of all databases:\n",
    "timer = 6\n",
    "for database in data:\n",
    "    df_temp = pd.read_excel(\"/Users/carlosswanton/Desktop/Proyecto - Py/beer_data/\"+database)\n",
    "    df = pd.concat([df, df_temp]) \n",
    "    timer -=  1\n",
    "    print(\"Databases left to concat: \" + str(timer))\n",
    "print(\"Done\")"
   ]
  },
  {
   "cell_type": "code",
   "execution_count": 4,
   "id": "35b41760-71e9-47b7-a43d-7db0ef724db5",
   "metadata": {},
   "outputs": [],
   "source": [
    "# dislay all columns of dataframe:\n",
    "pd.set_option('display.max_columns', None)"
   ]
  },
  {
   "cell_type": "code",
   "execution_count": 5,
   "id": "1ef2736c-557d-4a32-ad06-8d2ae7682a2d",
   "metadata": {},
   "outputs": [
    {
     "data": {
      "text/plain": [
       "(8950, 86)"
      ]
     },
     "execution_count": 5,
     "metadata": {},
     "output_type": "execute_result"
    }
   ],
   "source": [
    "# shape of df:\n",
    "df.shape"
   ]
  },
  {
   "cell_type": "code",
   "execution_count": 6,
   "id": "07b7f255-9eac-4d27-b8bd-241564e23c91",
   "metadata": {},
   "outputs": [],
   "source": [
    "# start cleaning the dataset, first the column names and drop the ones you do not need. \n",
    "df.columns = df.columns.str.lower()\n",
    "df.reset_index(inplace = True, drop= True)"
   ]
  },
  {
   "cell_type": "code",
   "execution_count": 7,
   "id": "c8a4bd30-7136-45b0-bf1e-8839af465d19",
   "metadata": {},
   "outputs": [],
   "source": [
    "# create a subset of the original dataframe: \n",
    "df = df[[\"año\", \"mes\", \"ruc\", \"razon social\", \"desc_comer\", \"marca_comercial\",  \"marcas\", \"ciudad_embarque\", \"pais_embarque\", \"pais_origen\", \n",
    "    \"unidades\", \"tipo_unidad\", \"kilos_neto\", \"fob\", \"flete\", \"seguro\", \"cif\", \"fob_unitario\", \"incoterm\"]] "
   ]
  },
  {
   "cell_type": "code",
   "execution_count": 8,
   "id": "52423c81-418f-4cca-b30b-805347bfb6d4",
   "metadata": {},
   "outputs": [],
   "source": [
    "# renaming columns\n",
    "df.rename(columns = {\"razon social\" : \"razon_social\"}, inplace = True)"
   ]
  },
  {
   "cell_type": "code",
   "execution_count": 9,
   "id": "e0dad69b-d11d-45a9-bde2-441960cab33e",
   "metadata": {},
   "outputs": [
    {
     "data": {
      "text/html": [
       "<div>\n",
       "<style scoped>\n",
       "    .dataframe tbody tr th:only-of-type {\n",
       "        vertical-align: middle;\n",
       "    }\n",
       "\n",
       "    .dataframe tbody tr th {\n",
       "        vertical-align: top;\n",
       "    }\n",
       "\n",
       "    .dataframe thead th {\n",
       "        text-align: right;\n",
       "    }\n",
       "</style>\n",
       "<table border=\"1\" class=\"dataframe\">\n",
       "  <thead>\n",
       "    <tr style=\"text-align: right;\">\n",
       "      <th></th>\n",
       "      <th>año</th>\n",
       "      <th>mes</th>\n",
       "      <th>ruc</th>\n",
       "      <th>razon_social</th>\n",
       "      <th>desc_comer</th>\n",
       "      <th>marca_comercial</th>\n",
       "      <th>marcas</th>\n",
       "      <th>ciudad_embarque</th>\n",
       "      <th>pais_embarque</th>\n",
       "      <th>pais_origen</th>\n",
       "      <th>unidades</th>\n",
       "      <th>tipo_unidad</th>\n",
       "      <th>kilos_neto</th>\n",
       "      <th>fob</th>\n",
       "      <th>flete</th>\n",
       "      <th>seguro</th>\n",
       "      <th>cif</th>\n",
       "      <th>fob_unitario</th>\n",
       "      <th>incoterm</th>\n",
       "    </tr>\n",
       "  </thead>\n",
       "  <tbody>\n",
       "    <tr>\n",
       "      <th>0</th>\n",
       "      <td>2018</td>\n",
       "      <td>1</td>\n",
       "      <td>190007510001</td>\n",
       "      <td>ALMACENES JUAN ELJURI CIA. LTDA.</td>\n",
       "      <td>CERVEZA</td>\n",
       "      <td>SOL</td>\n",
       "      <td>SOL</td>\n",
       "      <td>NaN</td>\n",
       "      <td>NETHERLANDS</td>\n",
       "      <td>NETHERLANDS</td>\n",
       "      <td>43908.0</td>\n",
       "      <td>UNIDADES</td>\n",
       "      <td>44346.0</td>\n",
       "      <td>55273.68</td>\n",
       "      <td>0.0</td>\n",
       "      <td>476.78</td>\n",
       "      <td>55750.46</td>\n",
       "      <td>9.97</td>\n",
       "      <td>CFR</td>\n",
       "    </tr>\n",
       "  </tbody>\n",
       "</table>\n",
       "</div>"
      ],
      "text/plain": [
       "    año  mes           ruc                      razon_social desc_comer  \\\n",
       "0  2018    1  190007510001  ALMACENES JUAN ELJURI CIA. LTDA.    CERVEZA   \n",
       "\n",
       "  marca_comercial marcas ciudad_embarque pais_embarque  pais_origen  unidades  \\\n",
       "0             SOL    SOL             NaN   NETHERLANDS  NETHERLANDS   43908.0   \n",
       "\n",
       "  tipo_unidad  kilos_neto       fob  flete  seguro       cif  fob_unitario  \\\n",
       "0    UNIDADES     44346.0  55273.68    0.0  476.78  55750.46          9.97   \n",
       "\n",
       "  incoterm  \n",
       "0      CFR  "
      ]
     },
     "execution_count": 9,
     "metadata": {},
     "output_type": "execute_result"
    }
   ],
   "source": [
    "df.head(1)"
   ]
  },
  {
   "cell_type": "code",
   "execution_count": 10,
   "id": "7e669b69-a5bc-4ca7-8452-4c39f7d769a2",
   "metadata": {},
   "outputs": [],
   "source": [
    "# clean dataframe: look for missing values and bad data."
   ]
  },
  {
   "cell_type": "markdown",
   "id": "2b6b5c07-4fb4-45e8-a54d-1477cd470f68",
   "metadata": {},
   "source": [
    "- There are two columns with the name of the brand and one column with the commercial description. \n",
    "- I will be exploring which column to choose in order to explore the data. \n"
   ]
  },
  {
   "cell_type": "code",
   "execution_count": 11,
   "id": "bbfb9e2c-2d9d-4829-92d0-b6e4b0837b24",
   "metadata": {},
   "outputs": [
    {
     "data": {
      "text/plain": [
       "414"
      ]
     },
     "execution_count": 11,
     "metadata": {},
     "output_type": "execute_result"
    }
   ],
   "source": [
    "df[\"marcas\"].isna().sum()"
   ]
  },
  {
   "cell_type": "code",
   "execution_count": 12,
   "id": "b8187c7f-d5d9-4fce-83d6-190e256ee0fe",
   "metadata": {},
   "outputs": [
    {
     "data": {
      "text/plain": [
       "CORONA           1737\n",
       "CORONA EXTRA     1070\n",
       "STELLA ARTOIS     933\n",
       "BUDWEISER         424\n",
       "NaN               414\n",
       "Name: marcas, dtype: int64"
      ]
     },
     "execution_count": 12,
     "metadata": {},
     "output_type": "execute_result"
    }
   ],
   "source": [
    "df[\"marcas\"].value_counts(dropna= False).head(5)"
   ]
  },
  {
   "cell_type": "code",
   "execution_count": 13,
   "id": "880bf369-3293-4fbd-9f7e-fe181cf54e89",
   "metadata": {},
   "outputs": [
    {
     "data": {
      "text/plain": [
       "415"
      ]
     },
     "execution_count": 13,
     "metadata": {},
     "output_type": "execute_result"
    }
   ],
   "source": [
    "df[\"marca_comercial\"].isna().sum()"
   ]
  },
  {
   "cell_type": "code",
   "execution_count": 14,
   "id": "0b113fa4-0fc8-4a9f-9f61-a7ef32424195",
   "metadata": {},
   "outputs": [
    {
     "data": {
      "text/plain": [
       "CORONA           1737\n",
       "CORONA EXTRA     1070\n",
       "STELLA ARTOIS     933\n",
       "BUDWEISER         424\n",
       "NaN               415\n",
       "Name: marca_comercial, dtype: int64"
      ]
     },
     "execution_count": 14,
     "metadata": {},
     "output_type": "execute_result"
    }
   ],
   "source": [
    "df[\"marca_comercial\"].value_counts(dropna= False).head(5)"
   ]
  },
  {
   "cell_type": "code",
   "execution_count": 15,
   "id": "1dd1ff4e-a7ef-4da2-bf26-65050e39dfed",
   "metadata": {},
   "outputs": [],
   "source": [
    "# they are similar. i will use \"marcas\" because has one less mising value."
   ]
  },
  {
   "cell_type": "markdown",
   "id": "9702dbce-9971-40d8-8277-d98f605a9c05",
   "metadata": {},
   "source": [
    "- is it possible to fill the missing values of the beer brand (marcas) with the commercial description?"
   ]
  },
  {
   "cell_type": "code",
   "execution_count": 16,
   "id": "c070b36a-48ba-4159-8b2a-e07fce07057c",
   "metadata": {},
   "outputs": [],
   "source": [
    "dummy = df[[\"desc_comer\",\"marcas\",\"marca_comercial\"]]"
   ]
  },
  {
   "cell_type": "code",
   "execution_count": 17,
   "id": "3d81c3c0-4a16-44eb-9097-a2040a1e53e9",
   "metadata": {},
   "outputs": [],
   "source": [
    "filt = (dummy[\"marcas\"].isna())\n",
    "nan = dummy.loc[filt]"
   ]
  },
  {
   "cell_type": "code",
   "execution_count": 18,
   "id": "c9ec250d-7bb0-4bd6-97fd-7956147ac067",
   "metadata": {},
   "outputs": [],
   "source": [
    "# nan is the new datadrame that we need to understand in order to put the beer brands in marcas. "
   ]
  },
  {
   "cell_type": "code",
   "execution_count": 19,
   "id": "546691d0-0dab-4145-b779-814d9a5769af",
   "metadata": {},
   "outputs": [
    {
     "data": {
      "text/html": [
       "<div>\n",
       "<style scoped>\n",
       "    .dataframe tbody tr th:only-of-type {\n",
       "        vertical-align: middle;\n",
       "    }\n",
       "\n",
       "    .dataframe tbody tr th {\n",
       "        vertical-align: top;\n",
       "    }\n",
       "\n",
       "    .dataframe thead th {\n",
       "        text-align: right;\n",
       "    }\n",
       "</style>\n",
       "<table border=\"1\" class=\"dataframe\">\n",
       "  <thead>\n",
       "    <tr style=\"text-align: right;\">\n",
       "      <th></th>\n",
       "      <th>desc_comer</th>\n",
       "      <th>marcas</th>\n",
       "      <th>marca_comercial</th>\n",
       "    </tr>\n",
       "  </thead>\n",
       "  <tbody>\n",
       "    <tr>\n",
       "      <th>7</th>\n",
       "      <td>PILSENER BEER MALTA BEVERAGE</td>\n",
       "      <td>NaN</td>\n",
       "      <td>NaN</td>\n",
       "    </tr>\n",
       "    <tr>\n",
       "      <th>8</th>\n",
       "      <td>CLUB BEER MALTA BEVERAGE</td>\n",
       "      <td>NaN</td>\n",
       "      <td>NaN</td>\n",
       "    </tr>\n",
       "    <tr>\n",
       "      <th>9</th>\n",
       "      <td>CLUB BEER MALTA BEVERAGE</td>\n",
       "      <td>NaN</td>\n",
       "      <td>NaN</td>\n",
       "    </tr>\n",
       "    <tr>\n",
       "      <th>32</th>\n",
       "      <td>PONY MALTA</td>\n",
       "      <td>NaN</td>\n",
       "      <td>NaN</td>\n",
       "    </tr>\n",
       "    <tr>\n",
       "      <th>99</th>\n",
       "      <td>BOTELLAS DE CERVEZA</td>\n",
       "      <td>NaN</td>\n",
       "      <td>NaN</td>\n",
       "    </tr>\n",
       "  </tbody>\n",
       "</table>\n",
       "</div>"
      ],
      "text/plain": [
       "                      desc_comer marcas marca_comercial\n",
       "7   PILSENER BEER MALTA BEVERAGE    NaN             NaN\n",
       "8       CLUB BEER MALTA BEVERAGE    NaN             NaN\n",
       "9       CLUB BEER MALTA BEVERAGE    NaN             NaN\n",
       "32                    PONY MALTA    NaN             NaN\n",
       "99           BOTELLAS DE CERVEZA    NaN             NaN"
      ]
     },
     "execution_count": 19,
     "metadata": {},
     "output_type": "execute_result"
    }
   ],
   "source": [
    "nan.head()"
   ]
  },
  {
   "cell_type": "code",
   "execution_count": 20,
   "id": "40441937-d313-4610-b4b9-bf994398f896",
   "metadata": {},
   "outputs": [
    {
     "data": {
      "text/plain": [
       "CERVEZA                            32\n",
       "CERV HEINEKEN OW 4X6 330cc         32\n",
       "PILSENER BEER MALTA BEVERAGE       17\n",
       "CERVEZA PILSENER 600CM             13\n",
       "PILSEN TRUJILLO LATA 355 ML 6X1    13\n",
       "Name: desc_comer, dtype: int64"
      ]
     },
     "execution_count": 20,
     "metadata": {},
     "output_type": "execute_result"
    }
   ],
   "source": [
    "nan[\"desc_comer\"].value_counts().head()"
   ]
  },
  {
   "cell_type": "code",
   "execution_count": 21,
   "id": "d0b4ef64-224e-46aa-8c71-8ed1f8c5303a",
   "metadata": {},
   "outputs": [],
   "source": [
    "nan1 = nan.copy() # experiment with copying the commercial description and filling missing values."
   ]
  },
  {
   "cell_type": "code",
   "execution_count": 22,
   "id": "67581c16-419b-41cf-bfa1-ed089442db51",
   "metadata": {},
   "outputs": [],
   "source": [
    "nan1['marcas'].fillna(nan1['desc_comer'], inplace = True)"
   ]
  },
  {
   "cell_type": "code",
   "execution_count": 23,
   "id": "5ccd06bb-8c1f-4354-8fd3-3875ba62096e",
   "metadata": {},
   "outputs": [
    {
     "data": {
      "text/html": [
       "<div>\n",
       "<style scoped>\n",
       "    .dataframe tbody tr th:only-of-type {\n",
       "        vertical-align: middle;\n",
       "    }\n",
       "\n",
       "    .dataframe tbody tr th {\n",
       "        vertical-align: top;\n",
       "    }\n",
       "\n",
       "    .dataframe thead th {\n",
       "        text-align: right;\n",
       "    }\n",
       "</style>\n",
       "<table border=\"1\" class=\"dataframe\">\n",
       "  <thead>\n",
       "    <tr style=\"text-align: right;\">\n",
       "      <th></th>\n",
       "      <th>desc_comer</th>\n",
       "      <th>marcas</th>\n",
       "      <th>marca_comercial</th>\n",
       "    </tr>\n",
       "  </thead>\n",
       "  <tbody>\n",
       "    <tr>\n",
       "      <th>7</th>\n",
       "      <td>PILSENER BEER MALTA BEVERAGE</td>\n",
       "      <td>PILSENER BEER MALTA BEVERAGE</td>\n",
       "      <td>NaN</td>\n",
       "    </tr>\n",
       "    <tr>\n",
       "      <th>8</th>\n",
       "      <td>CLUB BEER MALTA BEVERAGE</td>\n",
       "      <td>CLUB BEER MALTA BEVERAGE</td>\n",
       "      <td>NaN</td>\n",
       "    </tr>\n",
       "    <tr>\n",
       "      <th>9</th>\n",
       "      <td>CLUB BEER MALTA BEVERAGE</td>\n",
       "      <td>CLUB BEER MALTA BEVERAGE</td>\n",
       "      <td>NaN</td>\n",
       "    </tr>\n",
       "    <tr>\n",
       "      <th>32</th>\n",
       "      <td>PONY MALTA</td>\n",
       "      <td>PONY MALTA</td>\n",
       "      <td>NaN</td>\n",
       "    </tr>\n",
       "    <tr>\n",
       "      <th>99</th>\n",
       "      <td>BOTELLAS DE CERVEZA</td>\n",
       "      <td>BOTELLAS DE CERVEZA</td>\n",
       "      <td>NaN</td>\n",
       "    </tr>\n",
       "    <tr>\n",
       "      <th>...</th>\n",
       "      <td>...</td>\n",
       "      <td>...</td>\n",
       "      <td>...</td>\n",
       "    </tr>\n",
       "    <tr>\n",
       "      <th>8873</th>\n",
       "      <td>CLUB BEER MALTA BEVERAGE</td>\n",
       "      <td>CLUB BEER MALTA BEVERAGE</td>\n",
       "      <td>NaN</td>\n",
       "    </tr>\n",
       "    <tr>\n",
       "      <th>8874</th>\n",
       "      <td>CLUB BEER MALTA BEVERAGE</td>\n",
       "      <td>CLUB BEER MALTA BEVERAGE</td>\n",
       "      <td>NaN</td>\n",
       "    </tr>\n",
       "    <tr>\n",
       "      <th>8943</th>\n",
       "      <td>CERVEZA BIELA 343CC X 24 BOTELLAS</td>\n",
       "      <td>CERVEZA BIELA 343CC X 24 BOTELLAS</td>\n",
       "      <td>NaN</td>\n",
       "    </tr>\n",
       "    <tr>\n",
       "      <th>8944</th>\n",
       "      <td>CERVEZA BIELA 343CC SIX PACK</td>\n",
       "      <td>CERVEZA BIELA 343CC SIX PACK</td>\n",
       "      <td>NaN</td>\n",
       "    </tr>\n",
       "    <tr>\n",
       "      <th>8945</th>\n",
       "      <td>CERVEZA SAPPORO</td>\n",
       "      <td>CERVEZA SAPPORO</td>\n",
       "      <td>NaN</td>\n",
       "    </tr>\n",
       "  </tbody>\n",
       "</table>\n",
       "<p>414 rows × 3 columns</p>\n",
       "</div>"
      ],
      "text/plain": [
       "                             desc_comer                             marcas  \\\n",
       "7          PILSENER BEER MALTA BEVERAGE       PILSENER BEER MALTA BEVERAGE   \n",
       "8              CLUB BEER MALTA BEVERAGE           CLUB BEER MALTA BEVERAGE   \n",
       "9              CLUB BEER MALTA BEVERAGE           CLUB BEER MALTA BEVERAGE   \n",
       "32                           PONY MALTA                         PONY MALTA   \n",
       "99                  BOTELLAS DE CERVEZA                BOTELLAS DE CERVEZA   \n",
       "...                                 ...                                ...   \n",
       "8873           CLUB BEER MALTA BEVERAGE           CLUB BEER MALTA BEVERAGE   \n",
       "8874           CLUB BEER MALTA BEVERAGE           CLUB BEER MALTA BEVERAGE   \n",
       "8943  CERVEZA BIELA 343CC X 24 BOTELLAS  CERVEZA BIELA 343CC X 24 BOTELLAS   \n",
       "8944       CERVEZA BIELA 343CC SIX PACK       CERVEZA BIELA 343CC SIX PACK   \n",
       "8945                    CERVEZA SAPPORO                    CERVEZA SAPPORO   \n",
       "\n",
       "     marca_comercial  \n",
       "7                NaN  \n",
       "8                NaN  \n",
       "9                NaN  \n",
       "32               NaN  \n",
       "99               NaN  \n",
       "...              ...  \n",
       "8873             NaN  \n",
       "8874             NaN  \n",
       "8943             NaN  \n",
       "8944             NaN  \n",
       "8945             NaN  \n",
       "\n",
       "[414 rows x 3 columns]"
      ]
     },
     "execution_count": 23,
     "metadata": {},
     "output_type": "execute_result"
    }
   ],
   "source": [
    "nan1"
   ]
  },
  {
   "cell_type": "code",
   "execution_count": 24,
   "id": "9a0195fb-871f-4f4d-b27e-9952ab8f36fb",
   "metadata": {},
   "outputs": [],
   "source": [
    "# back to our dataframe"
   ]
  },
  {
   "cell_type": "code",
   "execution_count": 25,
   "id": "b71cedcb-48f6-4e59-a5da-088b12bae6b1",
   "metadata": {},
   "outputs": [],
   "source": [
    "df[\"marcas\"].fillna(df[\"desc_comer\"], inplace = True)"
   ]
  },
  {
   "cell_type": "code",
   "execution_count": 26,
   "id": "7b96d54e-226b-4ccb-a03f-e69f2fb248cb",
   "metadata": {},
   "outputs": [
    {
     "data": {
      "text/plain": [
       "CORONA                            1737\n",
       "CORONA EXTRA                      1070\n",
       "STELLA ARTOIS                      933\n",
       "BUDWEISER                          424\n",
       "HEINEKEN                           334\n",
       "                                  ... \n",
       "BAVARIA & CIA S.C.A.                 1\n",
       "PREMIUM LAGER                        1\n",
       "LATAS PACK 269ML X 12                1\n",
       "LATA PACKS 473 ML X 12               1\n",
       "CERVEZA ARTESANAL SIERRA NEGRA       1\n",
       "Name: marcas, Length: 368, dtype: int64"
      ]
     },
     "execution_count": 26,
     "metadata": {},
     "output_type": "execute_result"
    }
   ],
   "source": [
    "df[\"marcas\"].value_counts(dropna=False)"
   ]
  },
  {
   "cell_type": "code",
   "execution_count": 27,
   "id": "4f90b80e-ed52-46a6-8e7e-d93b3b75580f",
   "metadata": {},
   "outputs": [
    {
     "data": {
      "text/plain": [
       "0"
      ]
     },
     "execution_count": 27,
     "metadata": {},
     "output_type": "execute_result"
    }
   ],
   "source": [
    "df[\"marcas\"].isna().sum()"
   ]
  },
  {
   "cell_type": "code",
   "execution_count": 28,
   "id": "331aade0-1fff-43a6-b240-dfde3341a592",
   "metadata": {},
   "outputs": [],
   "source": [
    "df.drop(columns = [\"desc_comer\", \"marca_comercial\"], inplace = True) "
   ]
  },
  {
   "cell_type": "code",
   "execution_count": 29,
   "id": "85ce6561-3eab-4e89-a2d5-0be213db9a8f",
   "metadata": {},
   "outputs": [],
   "source": [
    "# we now have to group the beer brands, because they are written differently sometimes."
   ]
  },
  {
   "cell_type": "code",
   "execution_count": 30,
   "id": "1c559208-ae50-4944-9529-3b943d563a66",
   "metadata": {},
   "outputs": [
    {
     "data": {
      "text/plain": [
       "CORONA                            1737\n",
       "CORONA EXTRA                      1070\n",
       "STELLA ARTOIS                      933\n",
       "BUDWEISER                          424\n",
       "HEINEKEN                           334\n",
       "                                  ... \n",
       "BAVARIA & CIA S.C.A.                 1\n",
       "PREMIUM LAGER                        1\n",
       "LATAS PACK 269ML X 12                1\n",
       "LATA PACKS 473 ML X 12               1\n",
       "CERVEZA ARTESANAL SIERRA NEGRA       1\n",
       "Name: marcas, Length: 368, dtype: int64"
      ]
     },
     "execution_count": 30,
     "metadata": {},
     "output_type": "execute_result"
    }
   ],
   "source": [
    "df[\"marcas\"].value_counts()\n",
    " # CORONA AND CORONA EXTRA ARE THE SAME. We need to correctly group beers."
   ]
  },
  {
   "cell_type": "code",
   "execution_count": 31,
   "id": "59349870-1092-463f-9f09-16bbcd353394",
   "metadata": {},
   "outputs": [
    {
     "data": {
      "text/plain": [
       "pandas.core.series.Series"
      ]
     },
     "execution_count": 31,
     "metadata": {},
     "output_type": "execute_result"
    }
   ],
   "source": [
    "x = df[\"marcas\"].value_counts()\n",
    "type(x)"
   ]
  },
  {
   "cell_type": "code",
   "execution_count": 32,
   "id": "0d7cd156-0fab-453f-9bf2-7f961463057a",
   "metadata": {},
   "outputs": [],
   "source": [
    "# check for names and duplicates. (Send to Excel and get a better grip of the names).\n",
    "os.chdir(\"/Users/carlosswanton/Desktop/Proyecto - Py/\") \n",
    "x.to_excel(\"Brands_list.xlsx\")"
   ]
  },
  {
   "cell_type": "code",
   "execution_count": 33,
   "id": "9a868aed-38f5-46d9-8c03-d7f9b4a57592",
   "metadata": {},
   "outputs": [],
   "source": [
    "df[\"marcas\"].replace({\"CORONA EXTRA\": \"CORONA\"}, inplace = True)\n",
    "df[\"marcas\"].replace({\"CORONITA\": \"CORONA\"}, inplace = True)\n",
    "df[\"marcas\"].replace({\"BECK\": \"BECKS\"}, inplace = True)\n",
    "df[\"marcas\"].replace({\"BECKS\": \"BECKS\"}, inplace = True)\n",
    "df[\"marcas\"].replace({\"BECK S\": \"BECKS\"}, inplace = True)\n",
    "df[\"marcas\"].replace({\"CERV HEINEKEN OW 4X6 330cc\": \"HEINEKEN\"}, inplace = True)\n",
    "df[\"marcas\"].replace({\"CERV HEINEKEN OW 4X6 330cc\": \"HEINEKEN\"}, inplace = True)\n",
    "df[\"marcas\"].replace({\"STELLA\": \"STELLA ARTOIS\"}, inplace = True)\n",
    "df[\"marcas\"].replace({\"CORONA EXTRA SLEEK\": \"CORONA\"}, inplace = True)\n",
    "df[\"marcas\"].replace({\"CORONITA EXTRA\": \"CORONA\"}, inplace = True)\n",
    "df[\"marcas\"].replace({\"HEINEKEN LAGER BEER\": \"HEINEKEN\"}, inplace = True)\n",
    "df[\"marcas\"].replace({\"CERVEZA SOL\": \"SOL\"}, inplace = True)\n",
    "df[\"marcas\"].replace({\"CERVEZA HEINEKEN\": \"HEINEKEN\"}, inplace = True)\n",
    "df[\"marcas\"].replace({\"BECKS 269ML X24\": \"BECKS\"}, inplace = True)\n",
    "df[\"marcas\"].replace({\"CERV HEINEKEN OW 4X6 - 330CC\": \"HEINEKEN\"}, inplace = True)\n",
    "df[\"marcas\"].replace({\"ORIGINAL OETTINGER\": \"OETTINGER\"}, inplace = True)\n",
    "df[\"marcas\"].replace({\"OETTTTINGER\": \"OETTINGER\"}, inplace = True)\n",
    "df[\"marcas\"].replace({\"ROYAL DUTCH POST HORN\": \"ROYAL DUTCH\"}, inplace = True)\n",
    "df[\"marcas\"].replace({\"ROYAL DUTCH POS HORN\": \"ROYAL DUTCH\"}, inplace = True)\n",
    "df[\"marcas\"].replace({\"WARSTEINER BRAUEREI\": \"WARSTEINER\"}, inplace = True)"
   ]
  },
  {
   "cell_type": "code",
   "execution_count": 34,
   "id": "3ffc3638-907b-47dd-9306-af0e3e99cdb1",
   "metadata": {},
   "outputs": [
    {
     "data": {
      "text/plain": [
       "0.7627932960893854"
      ]
     },
     "execution_count": 34,
     "metadata": {},
     "output_type": "execute_result"
    }
   ],
   "source": [
    "df[\"marcas\"].value_counts(normalize=True).sort_values(ascending=False).head(20).sum()\n",
    "# I have checked the 20 first brandas, they represent more than 77 percent of orders."
   ]
  },
  {
   "cell_type": "code",
   "execution_count": 35,
   "id": "dcba1e2b-478c-4491-9a88-168d7a0ae12c",
   "metadata": {},
   "outputs": [
    {
     "data": {
      "text/plain": [
       "CORONA             3055\n",
       "STELLA ARTOIS       953\n",
       "BUDWEISER           424\n",
       "HEINEKEN            386\n",
       "WIERQUER            257\n",
       "OETTINGER           246\n",
       "ROYAL DUTCH         229\n",
       "BECKS               212\n",
       "MODELO ESPECIAL     135\n",
       "ERDINGER            107\n",
       "Name: marcas, dtype: int64"
      ]
     },
     "execution_count": 35,
     "metadata": {},
     "output_type": "execute_result"
    }
   ],
   "source": [
    "df[\"marcas\"].value_counts().sort_values(ascending=False).head(10)"
   ]
  },
  {
   "cell_type": "markdown",
   "id": "b174c25d-6d41-432f-81f8-f895c8780d3f",
   "metadata": {},
   "source": [
    "#### format the dataframe"
   ]
  },
  {
   "cell_type": "code",
   "execution_count": 36,
   "id": "caf32d52-3409-4d55-837c-52f543e8cb90",
   "metadata": {},
   "outputs": [],
   "source": [
    "df[\"razon_social\"] = df[\"razon_social\"].str.lower()\n",
    "df[\"marcas\"] = df[\"marcas\"].str.lower()\n",
    "df[\"pais_embarque\"] = df[\"pais_embarque\"].str.lower()\n",
    "df[\"pais_origen\"] = df[\"pais_origen\"].str.lower()"
   ]
  },
  {
   "cell_type": "code",
   "execution_count": 37,
   "id": "eee206cf-ee2f-4888-8878-19b9c16c79b2",
   "metadata": {},
   "outputs": [
    {
     "data": {
      "text/html": [
       "<div>\n",
       "<style scoped>\n",
       "    .dataframe tbody tr th:only-of-type {\n",
       "        vertical-align: middle;\n",
       "    }\n",
       "\n",
       "    .dataframe tbody tr th {\n",
       "        vertical-align: top;\n",
       "    }\n",
       "\n",
       "    .dataframe thead th {\n",
       "        text-align: right;\n",
       "    }\n",
       "</style>\n",
       "<table border=\"1\" class=\"dataframe\">\n",
       "  <thead>\n",
       "    <tr style=\"text-align: right;\">\n",
       "      <th></th>\n",
       "      <th>año</th>\n",
       "      <th>mes</th>\n",
       "      <th>ruc</th>\n",
       "      <th>razon_social</th>\n",
       "      <th>marcas</th>\n",
       "      <th>ciudad_embarque</th>\n",
       "      <th>pais_embarque</th>\n",
       "      <th>pais_origen</th>\n",
       "      <th>unidades</th>\n",
       "      <th>tipo_unidad</th>\n",
       "      <th>kilos_neto</th>\n",
       "      <th>fob</th>\n",
       "      <th>flete</th>\n",
       "      <th>seguro</th>\n",
       "      <th>cif</th>\n",
       "      <th>fob_unitario</th>\n",
       "      <th>incoterm</th>\n",
       "    </tr>\n",
       "  </thead>\n",
       "  <tbody>\n",
       "    <tr>\n",
       "      <th>0</th>\n",
       "      <td>2018</td>\n",
       "      <td>1</td>\n",
       "      <td>190007510001</td>\n",
       "      <td>almacenes juan eljuri cia. ltda.</td>\n",
       "      <td>sol</td>\n",
       "      <td>NaN</td>\n",
       "      <td>netherlands</td>\n",
       "      <td>netherlands</td>\n",
       "      <td>43908.0</td>\n",
       "      <td>UNIDADES</td>\n",
       "      <td>44346.0</td>\n",
       "      <td>55273.68</td>\n",
       "      <td>0.0</td>\n",
       "      <td>476.78</td>\n",
       "      <td>55750.46</td>\n",
       "      <td>9.97</td>\n",
       "      <td>CFR</td>\n",
       "    </tr>\n",
       "    <tr>\n",
       "      <th>1</th>\n",
       "      <td>2018</td>\n",
       "      <td>1</td>\n",
       "      <td>190148920001</td>\n",
       "      <td>fraganlicor cia. ltda.</td>\n",
       "      <td>heineken</td>\n",
       "      <td>NaN</td>\n",
       "      <td>netherlands</td>\n",
       "      <td>netherlands</td>\n",
       "      <td>27648.0</td>\n",
       "      <td>UNIDADES</td>\n",
       "      <td>27924.0</td>\n",
       "      <td>33776.64</td>\n",
       "      <td>0.0</td>\n",
       "      <td>293.07</td>\n",
       "      <td>34069.71</td>\n",
       "      <td>7.33</td>\n",
       "      <td>CFR</td>\n",
       "    </tr>\n",
       "    <tr>\n",
       "      <th>2</th>\n",
       "      <td>2018</td>\n",
       "      <td>1</td>\n",
       "      <td>190148920001</td>\n",
       "      <td>fraganlicor cia. ltda.</td>\n",
       "      <td>heineken</td>\n",
       "      <td>NaN</td>\n",
       "      <td>netherlands</td>\n",
       "      <td>netherlands</td>\n",
       "      <td>13782.0</td>\n",
       "      <td>UNIDADES</td>\n",
       "      <td>13920.0</td>\n",
       "      <td>16837.01</td>\n",
       "      <td>0.0</td>\n",
       "      <td>146.09</td>\n",
       "      <td>16983.10</td>\n",
       "      <td>7.33</td>\n",
       "      <td>CFR</td>\n",
       "    </tr>\n",
       "  </tbody>\n",
       "</table>\n",
       "</div>"
      ],
      "text/plain": [
       "    año  mes           ruc                      razon_social    marcas  \\\n",
       "0  2018    1  190007510001  almacenes juan eljuri cia. ltda.       sol   \n",
       "1  2018    1  190148920001            fraganlicor cia. ltda.  heineken   \n",
       "2  2018    1  190148920001            fraganlicor cia. ltda.  heineken   \n",
       "\n",
       "  ciudad_embarque pais_embarque  pais_origen  unidades tipo_unidad  \\\n",
       "0             NaN   netherlands  netherlands   43908.0    UNIDADES   \n",
       "1             NaN   netherlands  netherlands   27648.0    UNIDADES   \n",
       "2             NaN   netherlands  netherlands   13782.0    UNIDADES   \n",
       "\n",
       "   kilos_neto       fob  flete  seguro       cif  fob_unitario incoterm  \n",
       "0     44346.0  55273.68    0.0  476.78  55750.46          9.97      CFR  \n",
       "1     27924.0  33776.64    0.0  293.07  34069.71          7.33      CFR  \n",
       "2     13920.0  16837.01    0.0  146.09  16983.10          7.33      CFR  "
      ]
     },
     "execution_count": 37,
     "metadata": {},
     "output_type": "execute_result"
    }
   ],
   "source": [
    "df.head(3)"
   ]
  },
  {
   "cell_type": "code",
   "execution_count": 38,
   "id": "c84e3be6-6ad6-499f-90d4-4acfc9a963dd",
   "metadata": {},
   "outputs": [],
   "source": [
    "# where do beer comes from?"
   ]
  },
  {
   "cell_type": "code",
   "execution_count": 39,
   "id": "e08f5250-69f1-4b3d-a092-1ba3c8285b43",
   "metadata": {},
   "outputs": [
    {
     "data": {
      "text/plain": [
       "NaN                                       0.958212\n",
       "BALBOA                                    0.009721\n",
       "MANZANILLO                                0.005810\n",
       "CALLAO                                    0.004693\n",
       "SANTIAGO-ARTURO MERINO BENITEZ AIRPORT    0.002570\n",
       "Name: ciudad_embarque, dtype: float64"
      ]
     },
     "execution_count": 39,
     "metadata": {},
     "output_type": "execute_result"
    }
   ],
   "source": [
    "df[\"ciudad_embarque\"].value_counts(normalize=True, dropna = False).head()"
   ]
  },
  {
   "cell_type": "code",
   "execution_count": 40,
   "id": "c5d7f213-180d-4dae-b1d4-5e5557d0fabc",
   "metadata": {},
   "outputs": [],
   "source": [
    "df.drop(columns = [\"ciudad_embarque\"], inplace=True) # no info: 96 percent are missing values"
   ]
  },
  {
   "cell_type": "code",
   "execution_count": 41,
   "id": "c64153bf-d9a1-4170-b5a5-39fe44d53023",
   "metadata": {},
   "outputs": [],
   "source": [
    "# country of shipping"
   ]
  },
  {
   "cell_type": "code",
   "execution_count": 42,
   "id": "9d18eab6-f077-47fe-b23e-4aeb18beeb4c",
   "metadata": {},
   "outputs": [
    {
     "data": {
      "text/plain": [
       "mexico             2751\n",
       "germany            1224\n",
       "belgica            1211\n",
       "colombia            958\n",
       "netherlands         800\n",
       "spain               496\n",
       "united states       298\n",
       "brazil              276\n",
       "NaN                 231\n",
       "belgium             145\n",
       "peru                137\n",
       "italy                92\n",
       "polonia              57\n",
       "united kingdom       52\n",
       "chile                34\n",
       "poland               30\n",
       "dinamarca            28\n",
       "china                25\n",
       "republica checa      24\n",
       "espa                 19\n",
       "irlanda              17\n",
       "portugal             13\n",
       "puerto rico           8\n",
       "panama                6\n",
       "france                5\n",
       "argentina             4\n",
       "estados unidos        3\n",
       "sudafrica             2\n",
       "hungria               1\n",
       "czech republic        1\n",
       "paraguay              1\n",
       "new zealand           1\n",
       "Name: pais_embarque, dtype: int64"
      ]
     },
     "execution_count": 42,
     "metadata": {},
     "output_type": "execute_result"
    }
   ],
   "source": [
    "df[\"pais_embarque\"].value_counts(dropna=False)"
   ]
  },
  {
   "cell_type": "code",
   "execution_count": 43,
   "id": "31c015a3-7325-436d-8b4d-186e857a7fb7",
   "metadata": {},
   "outputs": [
    {
     "data": {
      "text/html": [
       "<div>\n",
       "<style scoped>\n",
       "    .dataframe tbody tr th:only-of-type {\n",
       "        vertical-align: middle;\n",
       "    }\n",
       "\n",
       "    .dataframe tbody tr th {\n",
       "        vertical-align: top;\n",
       "    }\n",
       "\n",
       "    .dataframe thead th {\n",
       "        text-align: right;\n",
       "    }\n",
       "</style>\n",
       "<table border=\"1\" class=\"dataframe\">\n",
       "  <thead>\n",
       "    <tr style=\"text-align: right;\">\n",
       "      <th></th>\n",
       "      <th>año</th>\n",
       "      <th>mes</th>\n",
       "      <th>ruc</th>\n",
       "      <th>razon_social</th>\n",
       "      <th>marcas</th>\n",
       "      <th>pais_embarque</th>\n",
       "      <th>pais_origen</th>\n",
       "      <th>unidades</th>\n",
       "      <th>tipo_unidad</th>\n",
       "      <th>kilos_neto</th>\n",
       "      <th>fob</th>\n",
       "      <th>flete</th>\n",
       "      <th>seguro</th>\n",
       "      <th>cif</th>\n",
       "      <th>fob_unitario</th>\n",
       "      <th>incoterm</th>\n",
       "    </tr>\n",
       "  </thead>\n",
       "  <tbody>\n",
       "    <tr>\n",
       "      <th>2370</th>\n",
       "      <td>2022</td>\n",
       "      <td>7</td>\n",
       "      <td>990017514001</td>\n",
       "      <td>tiendas industriales asociadas tia s. a.</td>\n",
       "      <td>cerveza konigsb pils 4.6</td>\n",
       "      <td>NaN</td>\n",
       "      <td>NaN</td>\n",
       "      <td>18817.92</td>\n",
       "      <td>61-LITRO</td>\n",
       "      <td>0.00</td>\n",
       "      <td>10243.150</td>\n",
       "      <td>0.00</td>\n",
       "      <td>0.00</td>\n",
       "      <td>0.000</td>\n",
       "      <td>0.000000</td>\n",
       "      <td>NaN</td>\n",
       "    </tr>\n",
       "    <tr>\n",
       "      <th>2540</th>\n",
       "      <td>2022</td>\n",
       "      <td>8</td>\n",
       "      <td>190148920001</td>\n",
       "      <td>fraganlicor cia. ltda.</td>\n",
       "      <td>estrella damm</td>\n",
       "      <td>NaN</td>\n",
       "      <td>españa</td>\n",
       "      <td>8624.88</td>\n",
       "      <td>61-LITRO</td>\n",
       "      <td>8697.33</td>\n",
       "      <td>8739.720</td>\n",
       "      <td>6214.52</td>\n",
       "      <td>120.93</td>\n",
       "      <td>8860.650</td>\n",
       "      <td>8.025455</td>\n",
       "      <td>FCA</td>\n",
       "    </tr>\n",
       "    <tr>\n",
       "      <th>2558</th>\n",
       "      <td>2022</td>\n",
       "      <td>8</td>\n",
       "      <td>990023549001</td>\n",
       "      <td>cerveceria nacional cn s.a.</td>\n",
       "      <td>corona</td>\n",
       "      <td>NaN</td>\n",
       "      <td>mexico</td>\n",
       "      <td>22100.88</td>\n",
       "      <td>61-LITRO</td>\n",
       "      <td>22334.34</td>\n",
       "      <td>20030.222</td>\n",
       "      <td>827.00</td>\n",
       "      <td>65.00</td>\n",
       "      <td>20095.222</td>\n",
       "      <td>7.721751</td>\n",
       "      <td>FAS</td>\n",
       "    </tr>\n",
       "    <tr>\n",
       "      <th>2559</th>\n",
       "      <td>2022</td>\n",
       "      <td>8</td>\n",
       "      <td>990023549001</td>\n",
       "      <td>cerveceria nacional cn s.a.</td>\n",
       "      <td>modelo especial</td>\n",
       "      <td>NaN</td>\n",
       "      <td>mexico</td>\n",
       "      <td>14313.60</td>\n",
       "      <td>61-LITRO</td>\n",
       "      <td>12398.40</td>\n",
       "      <td>18695.840</td>\n",
       "      <td>827.00</td>\n",
       "      <td>18.50</td>\n",
       "      <td>18714.340</td>\n",
       "      <td>11.128476</td>\n",
       "      <td>FAS</td>\n",
       "    </tr>\n",
       "    <tr>\n",
       "      <th>2560</th>\n",
       "      <td>2022</td>\n",
       "      <td>8</td>\n",
       "      <td>990023549001</td>\n",
       "      <td>cerveceria nacional cn s.a.</td>\n",
       "      <td>modelo especial</td>\n",
       "      <td>NaN</td>\n",
       "      <td>mexico</td>\n",
       "      <td>14313.60</td>\n",
       "      <td>61-LITRO</td>\n",
       "      <td>12398.40</td>\n",
       "      <td>18695.840</td>\n",
       "      <td>827.00</td>\n",
       "      <td>18.50</td>\n",
       "      <td>18714.340</td>\n",
       "      <td>11.128476</td>\n",
       "      <td>FAS</td>\n",
       "    </tr>\n",
       "  </tbody>\n",
       "</table>\n",
       "</div>"
      ],
      "text/plain": [
       "       año  mes           ruc                              razon_social  \\\n",
       "2370  2022    7  990017514001  tiendas industriales asociadas tia s. a.   \n",
       "2540  2022    8  190148920001                    fraganlicor cia. ltda.   \n",
       "2558  2022    8  990023549001               cerveceria nacional cn s.a.   \n",
       "2559  2022    8  990023549001               cerveceria nacional cn s.a.   \n",
       "2560  2022    8  990023549001               cerveceria nacional cn s.a.   \n",
       "\n",
       "                        marcas pais_embarque pais_origen  unidades  \\\n",
       "2370  cerveza konigsb pils 4.6           NaN         NaN  18817.92   \n",
       "2540             estrella damm           NaN      españa   8624.88   \n",
       "2558                    corona           NaN      mexico  22100.88   \n",
       "2559           modelo especial           NaN      mexico  14313.60   \n",
       "2560           modelo especial           NaN      mexico  14313.60   \n",
       "\n",
       "     tipo_unidad  kilos_neto        fob    flete  seguro        cif  \\\n",
       "2370    61-LITRO        0.00  10243.150     0.00    0.00      0.000   \n",
       "2540    61-LITRO     8697.33   8739.720  6214.52  120.93   8860.650   \n",
       "2558    61-LITRO    22334.34  20030.222   827.00   65.00  20095.222   \n",
       "2559    61-LITRO    12398.40  18695.840   827.00   18.50  18714.340   \n",
       "2560    61-LITRO    12398.40  18695.840   827.00   18.50  18714.340   \n",
       "\n",
       "      fob_unitario incoterm  \n",
       "2370      0.000000      NaN  \n",
       "2540      8.025455      FCA  \n",
       "2558      7.721751      FAS  \n",
       "2559     11.128476      FAS  \n",
       "2560     11.128476      FAS  "
      ]
     },
     "execution_count": 43,
     "metadata": {},
     "output_type": "execute_result"
    }
   ],
   "source": [
    "filt = (df[\"pais_embarque\"].isna()) \n",
    "df.loc[filt].head() "
   ]
  },
  {
   "cell_type": "code",
   "execution_count": 44,
   "id": "d9f8ec07-8198-46cc-a833-fa1321d84182",
   "metadata": {},
   "outputs": [],
   "source": [
    "# i have to choose country of origin (not country of shipping) because we need to know where did the beer was manufactured."
   ]
  },
  {
   "cell_type": "code",
   "execution_count": 45,
   "id": "613fd70d-d027-4a79-b25f-47afec7b3466",
   "metadata": {},
   "outputs": [
    {
     "data": {
      "text/plain": [
       "mexico                         2797\n",
       "belgica                        1389\n",
       "germany                        1228\n",
       "colombia                        987\n",
       "netherlands                     818\n",
       "spain                           481\n",
       "ecuador                         383\n",
       "brazil                          281\n",
       "united states                   125\n",
       "polonia                          94\n",
       "italia                           74\n",
       "reino unido de gran bretaña      51\n",
       "peru                             49\n",
       "dinamarca                        28\n",
       "china                            26\n",
       "republica checa                  25\n",
       "espa                             19\n",
       "alemania                         18\n",
       "irlanda                          17\n",
       "portugal                         15\n",
       "NaN                              12\n",
       "paises bajos                     10\n",
       "españa                            7\n",
       "estados unidos                    6\n",
       "argentina                         4\n",
       "france                            3\n",
       "chile                             1\n",
       "paraguay                          1\n",
       "hungria                           1\n",
       "Name: pais_origen, dtype: int64"
      ]
     },
     "execution_count": 45,
     "metadata": {},
     "output_type": "execute_result"
    }
   ],
   "source": [
    "df[\"pais_origen\"].value_counts(dropna=False) #??? why does ecuador appears 383 times?"
   ]
  },
  {
   "cell_type": "code",
   "execution_count": 46,
   "id": "d9cf9561-6dba-4174-81e7-2e107c9bab53",
   "metadata": {},
   "outputs": [
    {
     "data": {
      "text/plain": [
       "mexico         0.312934\n",
       "belgica        0.155404\n",
       "germany        0.137391\n",
       "colombia       0.110427\n",
       "netherlands    0.091519\n",
       "spain          0.053815\n",
       "ecuador        0.042851\n",
       "Name: pais_origen, dtype: float64"
      ]
     },
     "execution_count": 46,
     "metadata": {},
     "output_type": "execute_result"
    }
   ],
   "source": [
    "df[\"pais_origen\"].value_counts(normalize=True).head(7) "
   ]
  },
  {
   "cell_type": "markdown",
   "id": "97ecea33-c6cc-40ad-a214-0fad8dbadd54",
   "metadata": {},
   "source": [
    "- Ecuador represents 4 percent of the country of origin?"
   ]
  },
  {
   "cell_type": "code",
   "execution_count": 47,
   "id": "ddaecfca-ef46-4961-8b68-2a72f32aea71",
   "metadata": {},
   "outputs": [
    {
     "data": {
      "text/plain": [
       "corona           0.341341\n",
       "stella artois    0.106480\n",
       "budweiser        0.047374\n",
       "heineken         0.043128\n",
       "wierquer         0.028715\n",
       "oettinger        0.027486\n",
       "royal dutch      0.025587\n",
       "Name: marcas, dtype: float64"
      ]
     },
     "execution_count": 47,
     "metadata": {},
     "output_type": "execute_result"
    }
   ],
   "source": [
    "df[\"marcas\"].value_counts(normalize=True).head(7)"
   ]
  },
  {
   "cell_type": "code",
   "execution_count": 48,
   "id": "cf80aa97-ff55-4b17-96c4-55471c7f3eea",
   "metadata": {},
   "outputs": [],
   "source": [
    "df[\"pais_origen\"].replace({\"germany\": \"alemania\"}, inplace = True)\n",
    "df[\"pais_origen\"].replace({\"netherlands\": \"paises bajos\"}, inplace = True)\n",
    "df[\"pais_origen\"].replace({\"paises bajos\": \"países bajos\"}, inplace = True)\n",
    "df[\"pais_origen\"].replace({\"spain\": \"españa\"}, inplace = True)\n",
    "df[\"pais_origen\"].replace({\"espa\": \"españa\"}, inplace = True)\n",
    "df[\"pais_origen\"].replace({\"brazil\": \"brasil\"}, inplace = True)\n",
    "df[\"pais_origen\"].replace({\"united states\": \"estados unidos\"}, inplace = True)\n",
    "df[\"pais_origen\"].replace({\"reino unido de gran bretaña\": \"reino unido\"}, inplace = True)\n",
    "df[\"pais_origen\"].replace({\"espa\": \"españa\"}, inplace = True)"
   ]
  },
  {
   "cell_type": "code",
   "execution_count": 49,
   "id": "d3d4468c-0d17-42a2-8943-420ca43dec2f",
   "metadata": {},
   "outputs": [],
   "source": [
    "filt = (df[\"pais_origen\"]== \"ecuador\") \n",
    "ec = df.loc[filt]"
   ]
  },
  {
   "cell_type": "code",
   "execution_count": 50,
   "id": "a3dd6ef3-c430-441b-be5b-f653aa57f39a",
   "metadata": {},
   "outputs": [
    {
     "data": {
      "text/html": [
       "<div>\n",
       "<style scoped>\n",
       "    .dataframe tbody tr th:only-of-type {\n",
       "        vertical-align: middle;\n",
       "    }\n",
       "\n",
       "    .dataframe tbody tr th {\n",
       "        vertical-align: top;\n",
       "    }\n",
       "\n",
       "    .dataframe thead th {\n",
       "        text-align: right;\n",
       "    }\n",
       "</style>\n",
       "<table border=\"1\" class=\"dataframe\">\n",
       "  <thead>\n",
       "    <tr style=\"text-align: right;\">\n",
       "      <th></th>\n",
       "      <th>año</th>\n",
       "      <th>mes</th>\n",
       "      <th>ruc</th>\n",
       "      <th>razon_social</th>\n",
       "      <th>marcas</th>\n",
       "      <th>pais_embarque</th>\n",
       "      <th>pais_origen</th>\n",
       "      <th>unidades</th>\n",
       "      <th>tipo_unidad</th>\n",
       "      <th>kilos_neto</th>\n",
       "      <th>fob</th>\n",
       "      <th>flete</th>\n",
       "      <th>seguro</th>\n",
       "      <th>cif</th>\n",
       "      <th>fob_unitario</th>\n",
       "      <th>incoterm</th>\n",
       "    </tr>\n",
       "  </thead>\n",
       "  <tbody>\n",
       "    <tr>\n",
       "      <th>8872</th>\n",
       "      <td>2017</td>\n",
       "      <td>11</td>\n",
       "      <td>301256996001</td>\n",
       "      <td>jimbo campoverde fredy paul</td>\n",
       "      <td>pilsener beer malta beverage</td>\n",
       "      <td>mexico</td>\n",
       "      <td>ecuador</td>\n",
       "      <td>9580.459961</td>\n",
       "      <td>UNIDADES</td>\n",
       "      <td>14797.599609</td>\n",
       "      <td>23927.04</td>\n",
       "      <td>0.0</td>\n",
       "      <td>0.0</td>\n",
       "      <td>0.0</td>\n",
       "      <td>0.0</td>\n",
       "      <td>NaN</td>\n",
       "    </tr>\n",
       "    <tr>\n",
       "      <th>8873</th>\n",
       "      <td>2017</td>\n",
       "      <td>11</td>\n",
       "      <td>301256996001</td>\n",
       "      <td>jimbo campoverde fredy paul</td>\n",
       "      <td>club beer malta beverage</td>\n",
       "      <td>mexico</td>\n",
       "      <td>ecuador</td>\n",
       "      <td>1946.280029</td>\n",
       "      <td>UNIDADES</td>\n",
       "      <td>3006.149902</td>\n",
       "      <td>6076.00</td>\n",
       "      <td>0.0</td>\n",
       "      <td>0.0</td>\n",
       "      <td>0.0</td>\n",
       "      <td>0.0</td>\n",
       "      <td>NaN</td>\n",
       "    </tr>\n",
       "    <tr>\n",
       "      <th>8874</th>\n",
       "      <td>2017</td>\n",
       "      <td>11</td>\n",
       "      <td>301256996001</td>\n",
       "      <td>jimbo campoverde fredy paul</td>\n",
       "      <td>club beer malta beverage</td>\n",
       "      <td>mexico</td>\n",
       "      <td>ecuador</td>\n",
       "      <td>1745.930054</td>\n",
       "      <td>UNIDADES</td>\n",
       "      <td>1865.939941</td>\n",
       "      <td>5227.92</td>\n",
       "      <td>0.0</td>\n",
       "      <td>0.0</td>\n",
       "      <td>0.0</td>\n",
       "      <td>0.0</td>\n",
       "      <td>NaN</td>\n",
       "    </tr>\n",
       "    <tr>\n",
       "      <th>8943</th>\n",
       "      <td>2017</td>\n",
       "      <td>12</td>\n",
       "      <td>991402012001</td>\n",
       "      <td>dinaper s.a.</td>\n",
       "      <td>cerveza biela 343cc x 24 botellas</td>\n",
       "      <td>united states</td>\n",
       "      <td>ecuador</td>\n",
       "      <td>13994.000000</td>\n",
       "      <td>UNIDADES</td>\n",
       "      <td>2760.000000</td>\n",
       "      <td>4460.00</td>\n",
       "      <td>0.0</td>\n",
       "      <td>0.0</td>\n",
       "      <td>0.0</td>\n",
       "      <td>0.0</td>\n",
       "      <td>NaN</td>\n",
       "    </tr>\n",
       "    <tr>\n",
       "      <th>8944</th>\n",
       "      <td>2017</td>\n",
       "      <td>12</td>\n",
       "      <td>991402012001</td>\n",
       "      <td>dinaper s.a.</td>\n",
       "      <td>cerveza biela 343cc six pack</td>\n",
       "      <td>united states</td>\n",
       "      <td>ecuador</td>\n",
       "      <td>6997.000000</td>\n",
       "      <td>UNIDADES</td>\n",
       "      <td>1380.000000</td>\n",
       "      <td>2250.00</td>\n",
       "      <td>0.0</td>\n",
       "      <td>0.0</td>\n",
       "      <td>0.0</td>\n",
       "      <td>0.0</td>\n",
       "      <td>NaN</td>\n",
       "    </tr>\n",
       "  </tbody>\n",
       "</table>\n",
       "</div>"
      ],
      "text/plain": [
       "       año  mes           ruc                 razon_social  \\\n",
       "8872  2017   11  301256996001  jimbo campoverde fredy paul   \n",
       "8873  2017   11  301256996001  jimbo campoverde fredy paul   \n",
       "8874  2017   11  301256996001  jimbo campoverde fredy paul   \n",
       "8943  2017   12  991402012001                 dinaper s.a.   \n",
       "8944  2017   12  991402012001                 dinaper s.a.   \n",
       "\n",
       "                                 marcas  pais_embarque pais_origen  \\\n",
       "8872       pilsener beer malta beverage         mexico     ecuador   \n",
       "8873           club beer malta beverage         mexico     ecuador   \n",
       "8874           club beer malta beverage         mexico     ecuador   \n",
       "8943  cerveza biela 343cc x 24 botellas  united states     ecuador   \n",
       "8944       cerveza biela 343cc six pack  united states     ecuador   \n",
       "\n",
       "          unidades tipo_unidad    kilos_neto       fob  flete  seguro  cif  \\\n",
       "8872   9580.459961    UNIDADES  14797.599609  23927.04    0.0     0.0  0.0   \n",
       "8873   1946.280029    UNIDADES   3006.149902   6076.00    0.0     0.0  0.0   \n",
       "8874   1745.930054    UNIDADES   1865.939941   5227.92    0.0     0.0  0.0   \n",
       "8943  13994.000000    UNIDADES   2760.000000   4460.00    0.0     0.0  0.0   \n",
       "8944   6997.000000    UNIDADES   1380.000000   2250.00    0.0     0.0  0.0   \n",
       "\n",
       "      fob_unitario incoterm  \n",
       "8872           0.0      NaN  \n",
       "8873           0.0      NaN  \n",
       "8874           0.0      NaN  \n",
       "8943           0.0      NaN  \n",
       "8944           0.0      NaN  "
      ]
     },
     "execution_count": 50,
     "metadata": {},
     "output_type": "execute_result"
    }
   ],
   "source": [
    "ec.tail()"
   ]
  },
  {
   "cell_type": "code",
   "execution_count": 51,
   "id": "069f9bac-c161-4539-ae9d-f76a6c736bac",
   "metadata": {},
   "outputs": [
    {
     "data": {
      "text/plain": [
       "corona                                            0.584600\n",
       "budweiser                                         0.284701\n",
       "bavaria                                           0.047619\n",
       "miller                                            0.027356\n",
       "bavaria y cia s.c.a.                              0.021277\n",
       "cerveceria bbc de la sabana sas                   0.012158\n",
       "cerveceria del valle                              0.005066\n",
       "bavaria s.a                                       0.004053\n",
       "stella artois                                     0.003040\n",
       "sin marca                                         0.002026\n",
       "tutaina                                           0.002026\n",
       "bavaria & cia s.c.a.                              0.001013\n",
       "andina                                            0.001013\n",
       "latas de cervezas poker 4.5% grados de alcohol    0.001013\n",
       "para la industria cervecera                       0.001013\n",
       "ambev                                             0.001013\n",
       "miller gd exp tw 355cc 6x4                        0.001013\n",
       "Name: marcas, dtype: float64"
      ]
     },
     "execution_count": 51,
     "metadata": {},
     "output_type": "execute_result"
    }
   ],
   "source": [
    "filte = (df[\"pais_origen\"]== \"colombia\") \n",
    "colo = df.loc[filte]\n",
    "colo[\"marcas\"].value_counts(normalize=True)\n",
    "# colombia produces mexican beer like corona. "
   ]
  },
  {
   "cell_type": "code",
   "execution_count": 52,
   "id": "cc04006c-59be-4bbf-acb5-a7dd378be4b2",
   "metadata": {},
   "outputs": [],
   "source": [
    "df[\"pais_origen\"].replace({\"ecuador\": \"otros\"}, inplace = True)"
   ]
  },
  {
   "cell_type": "code",
   "execution_count": 53,
   "id": "29425be6-f008-40a4-aeab-0fd335be060d",
   "metadata": {},
   "outputs": [
    {
     "data": {
      "text/plain": [
       "mexico             0.312514\n",
       "belgica            0.155196\n",
       "alemania           0.139218\n",
       "colombia           0.110279\n",
       "países bajos       0.092514\n",
       "españa             0.056648\n",
       "otros              0.042793\n",
       "brasil             0.031397\n",
       "estados unidos     0.014637\n",
       "polonia            0.010503\n",
       "italia             0.008268\n",
       "reino unido        0.005698\n",
       "peru               0.005475\n",
       "dinamarca          0.003128\n",
       "china              0.002905\n",
       "republica checa    0.002793\n",
       "irlanda            0.001899\n",
       "portugal           0.001676\n",
       "NaN                0.001341\n",
       "argentina          0.000447\n",
       "france             0.000335\n",
       "chile              0.000112\n",
       "paraguay           0.000112\n",
       "hungria            0.000112\n",
       "Name: pais_origen, dtype: float64"
      ]
     },
     "execution_count": 53,
     "metadata": {},
     "output_type": "execute_result"
    }
   ],
   "source": [
    "df[\"pais_origen\"].value_counts(normalize=True, dropna = False)"
   ]
  },
  {
   "cell_type": "code",
   "execution_count": 54,
   "id": "5586dbdc-89fb-44cb-8d7e-57947b2a3799",
   "metadata": {},
   "outputs": [],
   "source": [
    "os.chdir(\"/Users/carlosswanton/Desktop/Proyecto - Py/Cleaned_data/\")\n",
    "df.to_excel(\"cheers.xlsx\")"
   ]
  }
 ],
 "metadata": {
  "kernelspec": {
   "display_name": "Python 3 (ipykernel)",
   "language": "python",
   "name": "python3"
  },
  "language_info": {
   "codemirror_mode": {
    "name": "ipython",
    "version": 3
   },
   "file_extension": ".py",
   "mimetype": "text/x-python",
   "name": "python",
   "nbconvert_exporter": "python",
   "pygments_lexer": "ipython3",
   "version": "3.9.7"
  }
 },
 "nbformat": 4,
 "nbformat_minor": 5
}
