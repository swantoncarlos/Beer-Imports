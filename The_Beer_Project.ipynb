{
 "cells": [
  {
   "cell_type": "markdown",
   "id": "4dda2c0d-0a1a-47d9-9e14-0f1ad1031e4b",
   "metadata": {},
   "source": [
    "## Import Analysis: Beers to Ecuador (2017 - 2022)\n",
    "### Questions to answer:\n",
    "- What has been the trend of beer imports in Ecuador since 2017?\n",
    "- Is more beer been imported troughout the years or is it getting more expensive to import beer to Ecuador?\n",
    "- What has been happening with freight costs?\n",
    "- Which is the leading company in beer importation?\n",
    "- Which import do Ecuadorians import the most (USD)?\n",
    "- Where do beers come from?"
   ]
  },
  {
   "cell_type": "code",
   "execution_count": 1,
   "id": "1ae04087-f899-4135-add0-df3c1d55e0cf",
   "metadata": {},
   "outputs": [],
   "source": [
    "# import libraries:\n",
    "import pandas as pd \n",
    "import os \n",
    "import matplotlib.pyplot as plt"
   ]
  },
  {
   "cell_type": "code",
   "execution_count": 2,
   "id": "5f5dc36f-0c04-4e41-b840-4fdc666d5780",
   "metadata": {},
   "outputs": [],
   "source": [
    "# set directory:\n",
    "os.chdir(\"/Users/carlosswanton/Desktop/Proyecto - Py/Cleaned_data/\")"
   ]
  },
  {
   "cell_type": "code",
   "execution_count": 3,
   "id": "7e388f26-d7c7-490a-859c-3feaa4119c1c",
   "metadata": {},
   "outputs": [],
   "source": [
    "# import cleaned data: \n",
    "df = pd.read_excel(\"cheers.xlsx\", index_col = 0)"
   ]
  },
  {
   "cell_type": "code",
   "execution_count": 4,
   "id": "47d0a462-6866-4ba8-a08a-78660dc36146",
   "metadata": {},
   "outputs": [
    {
     "data": {
      "text/plain": [
       "6    332\n",
       "5    284\n",
       "3    207\n",
       "8    196\n",
       "4    191\n",
       "7    190\n",
       "1    144\n",
       "2    142\n",
       "9      6\n",
       "Name: mes, dtype: int64"
      ]
     },
     "execution_count": 4,
     "metadata": {},
     "output_type": "execute_result"
    }
   ],
   "source": [
    "# check the date range of data: \n",
    "filt = (df[\"año\"] == 2022)\n",
    "current = df.loc[filt]\n",
    "current[\"mes\"].value_counts()"
   ]
  },
  {
   "cell_type": "markdown",
   "id": "398c66cc-2b64-4eaf-b98c-7aca6313b09f",
   "metadata": {},
   "source": [
    "- Our data was downloaded in Sep of 2022. Therefore, we do not have complete data for 2022. \n",
    "- In order to make a correct data analysis, I will be analyzing how beer imports did during the first 8 months of each year. "
   ]
  },
  {
   "cell_type": "code",
   "execution_count": 5,
   "id": "f426392f-fc0f-4567-9be7-a7708155dd9f",
   "metadata": {},
   "outputs": [
    {
     "data": {
      "text/plain": [
       "[1, 2, 3, 4, 5, 6, 7, 8]"
      ]
     },
     "execution_count": 5,
     "metadata": {},
     "output_type": "execute_result"
    }
   ],
   "source": [
    "# keep months from Jan to Aug:\n",
    "months_to_keep = [x + 1 for x in range(0,8)]\n",
    "months_to_keep"
   ]
  },
  {
   "cell_type": "code",
   "execution_count": 6,
   "id": "c7fcc5ef-a62b-4d89-a71d-c52330c037df",
   "metadata": {},
   "outputs": [
    {
     "data": {
      "text/plain": [
       "(5766, 16)"
      ]
     },
     "execution_count": 6,
     "metadata": {},
     "output_type": "execute_result"
    }
   ],
   "source": [
    "# create a new dataframe for the first 8 months of each year: \n",
    "filt = (df[\"mes\"].isin(months_to_keep))\n",
    "cheers = df.loc[filt]\n",
    "cheers.shape"
   ]
  },
  {
   "cell_type": "markdown",
   "id": "a39c5088-e66a-4f9b-ae03-88f3d2939d62",
   "metadata": {},
   "source": [
    "### What has been the trend of beer imports in Ecuador since 2017? "
   ]
  },
  {
   "cell_type": "code",
   "execution_count": 7,
   "id": "6252f693-d9fb-480a-b416-7be8d145dd42",
   "metadata": {},
   "outputs": [
    {
     "name": "stderr",
     "output_type": "stream",
     "text": [
      "/Users/carlosswanton/opt/anaconda3/lib/python3.9/site-packages/pandas/core/frame.py:5039: SettingWithCopyWarning: \n",
      "A value is trying to be set on a copy of a slice from a DataFrame\n",
      "\n",
      "See the caveats in the documentation: https://pandas.pydata.org/pandas-docs/stable/user_guide/indexing.html#returning-a-view-versus-a-copy\n",
      "  return super().rename(\n"
     ]
    }
   ],
   "source": [
    "# renaming columns to english:\n",
    "cheers.rename(columns = {\"año\": \"year\", \"mes\" : \"month\", \"ruc\" : \"id\", \"razon_social\" : \"company\", \"marcas\" : \"brand\", \"pais_embarque\" : \"shipping_country\", \n",
    "                       \"pais_origen\" : \"country_origin\", \"unidades\" : \"units\", \"tipo_unidad\" : \"unit_type\", \"kilos_neto\" : \"weight_kilos\", \n",
    "                      \"flete\" : \"shipping_price\", \"seguro\" : \"insurance\", \"fob_unitario\": \"fob_unit\"}, inplace = True)"
   ]
  },
  {
   "cell_type": "code",
   "execution_count": 8,
   "id": "6edd2fc0-7e85-45a2-bc16-004c9907d8fe",
   "metadata": {},
   "outputs": [],
   "source": [
    "# grouping by; to look at imports per year:\n",
    "year = cheers.groupby(\"year\")"
   ]
  },
  {
   "cell_type": "code",
   "execution_count": 9,
   "id": "1d4af7de-7694-4840-9efa-cb6f4f5a2833",
   "metadata": {},
   "outputs": [
    {
     "data": {
      "text/plain": [
       "year\n",
       "2017     3787732.24\n",
       "2018     6849889.15\n",
       "2019    11991115.10\n",
       "2020    10667763.48\n",
       "2021    16489189.49\n",
       "2022    24095378.32\n",
       "Name: cif, dtype: float64"
      ]
     },
     "execution_count": 9,
     "metadata": {},
     "output_type": "execute_result"
    }
   ],
   "source": [
    "year[\"cif\"].sum().round(2)"
   ]
  },
  {
   "cell_type": "code",
   "execution_count": 10,
   "id": "a3111804-e6a4-4030-927c-27c575f3a910",
   "metadata": {},
   "outputs": [],
   "source": [
    "# imports in USD Millions:\n",
    "imports_per_year = year[\"cif\"].sum().round(2) / 1000000"
   ]
  },
  {
   "cell_type": "code",
   "execution_count": 11,
   "id": "323e6446-d613-4132-9605-14ad3d8ecf4e",
   "metadata": {},
   "outputs": [
    {
     "data": {
      "image/png": "[encoded data removed]",
      "text/plain": [
       "<Figure size 432x288 with 1 Axes>"
      ]
     },
     "metadata": {
      "needs_background": "light"
     },
     "output_type": "display_data"
    }
   ],
   "source": [
    "# bar chart:\n",
    "imports_per_year.plot(kind = \"bar\", title = \"Beer Imports is USD Millions\", color = [\"#141F52\", \"#141F52\",\"#141F52\",\"#141F52\",\"#141F52\",\"#C91D42\"], ylabel = \"USD Millions\",\n",
    "                     xlabel = \"Year\")\n",
    "plt.savefig(\"evolution.png\", dpi=300, bbox_inches='tight')"
   ]
  },
  {
   "cell_type": "markdown",
   "id": "cfcc58c8-5d5e-465c-94c3-4abae6a506db",
   "metadata": {},
   "source": [
    "- Since data is available, 2022 has been the year with the highest dollar amount in beer imports. \n",
    "- In the first 8 months of 2022, Ecuador imported $24 million in beers."
   ]
  },
  {
   "cell_type": "code",
   "execution_count": 12,
   "id": "79154d47-d1cd-4dd3-8e17-ff28dd11dc09",
   "metadata": {},
   "outputs": [
    {
     "data": {
      "text/plain": [
       "<AxesSubplot:title={'center':'Year on Year Growth (USD)'}, xlabel='Year', ylabel='Yearly Growth'>"
      ]
     },
     "execution_count": 12,
     "metadata": {},
     "output_type": "execute_result"
    },
    {
     "data": {
      "image/png": "[encoded data removed]",
      "text/plain": [
       "<Figure size 432x288 with 1 Axes>"
      ]
     },
     "metadata": {
      "needs_background": "light"
     },
     "output_type": "display_data"
    }
   ],
   "source": [
    "# Year on year growth of beer imports:\n",
    "growth_cif = imports_per_year.pct_change() * 100\n",
    "growth_cif = growth_cif.round(2)\n",
    "growth_cif.plot(xlabel = \"Year\", ylabel = \"Yearly Growth\", color = \"#141F52\", title = \"Year on Year Growth (USD)\",\n",
    "               xticks = [2018,2019,2020,2021,2022], linewidth= 3)"
   ]
  },
  {
   "cell_type": "code",
   "execution_count": 13,
   "id": "d6a20059-ff36-43f8-a0f1-3f39ec3af267",
   "metadata": {},
   "outputs": [
    {
     "data": {
      "text/plain": [
       "year\n",
       "2017      NaN\n",
       "2018    80.84\n",
       "2019    75.06\n",
       "2020   -11.04\n",
       "2021    54.57\n",
       "2022    46.13\n",
       "Name: cif, dtype: float64"
      ]
     },
     "execution_count": 13,
     "metadata": {},
     "output_type": "execute_result"
    }
   ],
   "source": [
    "growth_cif"
   ]
  },
  {
   "cell_type": "markdown",
   "id": "f38e885e-9a39-478d-b043-2082aca438a2",
   "metadata": {},
   "source": [
    "- 2018 was the year with the highest year-on-year growth. Since that period, imports have grown at a lower rate. In the first 8 months of 2022, beer imports have grown 46 percent."
   ]
  },
  {
   "cell_type": "markdown",
   "id": "6496c50d-867a-4c5c-9c00-152161b9c462",
   "metadata": {},
   "source": [
    "### Quantity of beers imported.\n",
    "#### Even though beers imports in dollars have grown, it could be because inflation and shipping costs:"
   ]
  },
  {
   "cell_type": "code",
   "execution_count": 14,
   "id": "074f6ab3-23c4-4972-bab3-6d874eb5155c",
   "metadata": {},
   "outputs": [
    {
     "data": {
      "text/plain": [
       "year\n",
       "2017     4104941.46\n",
       "2018     7728176.68\n",
       "2019    12182720.82\n",
       "2020    12539641.28\n",
       "2021    18768889.73\n",
       "2022    25179336.94\n",
       "Name: weight_kilos, dtype: float64"
      ]
     },
     "execution_count": 14,
     "metadata": {},
     "output_type": "execute_result"
    }
   ],
   "source": [
    "quantity = year[\"weight_kilos\"].sum().round(2)\n",
    "quantity"
   ]
  },
  {
   "cell_type": "code",
   "execution_count": 15,
   "id": "4cb4b0a7-8a0d-48e8-a69a-e2899b76d5ad",
   "metadata": {},
   "outputs": [
    {
     "data": {
      "text/plain": [
       "year\n",
       "2017      NaN\n",
       "2018    88.27\n",
       "2019    57.64\n",
       "2020     2.93\n",
       "2021    49.68\n",
       "2022    34.15\n",
       "Name: weight_kilos, dtype: float64"
      ]
     },
     "execution_count": 15,
     "metadata": {},
     "output_type": "execute_result"
    }
   ],
   "source": [
    "q_growth = quantity.pct_change() * 100 \n",
    "q_growth = q_growth.round(2)\n",
    "q_growth "
   ]
  },
  {
   "cell_type": "code",
   "execution_count": 16,
   "id": "0679e0f9-7c67-42a6-9a59-8477b5328d5b",
   "metadata": {},
   "outputs": [
    {
     "data": {
      "text/plain": [
       "<AxesSubplot:title={'center':'Year on Year Growth (Kilos)'}, xlabel='Year', ylabel='Yearly Growth'>"
      ]
     },
     "execution_count": 16,
     "metadata": {},
     "output_type": "execute_result"
    },
    {
     "data": {
      "image/png": "[encoded data removed]",
      "text/plain": [
       "<Figure size 432x288 with 1 Axes>"
      ]
     },
     "metadata": {
      "needs_background": "light"
     },
     "output_type": "display_data"
    }
   ],
   "source": [
    "q_growth.plot(xlabel = \"Year\", ylabel = \"Yearly Growth\", color = \"#141F52\", title = \"Year on Year Growth (Kilos)\",\n",
    "               xticks = [2018,2019,2020,2021,2022], linewidth= 3)"
   ]
  },
  {
   "cell_type": "code",
   "execution_count": 17,
   "id": "4b2c661e-5361-445c-8a2e-1b634d2f5ded",
   "metadata": {},
   "outputs": [
    {
     "data": {
      "text/plain": [
       "<matplotlib.legend.Legend at 0x7fe758d25ca0>"
      ]
     },
     "execution_count": 17,
     "metadata": {},
     "output_type": "execute_result"
    },
    {
     "data": {
      "image/png": "[encoded data removed]",
      "text/plain": [
       "<Figure size 432x288 with 1 Axes>"
      ]
     },
     "metadata": {
      "needs_background": "light"
     },
     "output_type": "display_data"
    }
   ],
   "source": [
    "y1 = growth_cif.values\n",
    "x1 = growth_cif.index \n",
    "y2 = q_growth.values \n",
    "x2 = q_growth.index\n",
    "plt.plot(x1, y1, label = \"Growth in USD\", color = \"#141F52\", linewidth= 2 ) \n",
    "plt.plot(x1, y2, label = \"Growth in Weight\", color = \"#C91D42\", linewidth= 2 )\n",
    "plt.xlabel(\"Year\")\n",
    "plt.ylabel(\"Percentage Growth\")\n",
    "plt.yticks([0,20,40,60,80])\n",
    "#plt.xticks([2018,2019,2020,2021,2022])\n",
    "plt.legend()"
   ]
  },
  {
   "cell_type": "markdown",
   "id": "b442ca55-42aa-4495-bbd4-cf395930695e",
   "metadata": {},
   "source": [
    "- Since 2021, beer imports measured in dollars have grown at a faster rate than beer imports measured in kilos. That is to say that since the pandemic, importing beer is getting more expensive.\n",
    "- For example in 2022, imports in dollars have grown 46 percent, while imports in kilos went up by 34 percent. Everything else the same, we need to pay more for the same amount of beer."
   ]
  },
  {
   "cell_type": "markdown",
   "id": "a725cd63-2a9d-4ea6-a385-a6b47cb678bc",
   "metadata": {},
   "source": [
    "### Freight Costs."
   ]
  },
  {
   "cell_type": "code",
   "execution_count": 18,
   "id": "bf6b83c7-41cc-4f73-b79c-a3bda318ff75",
   "metadata": {},
   "outputs": [
    {
     "data": {
      "text/plain": [
       "year\n",
       "2017      NaN\n",
       "2018     40.0\n",
       "2019    148.0\n",
       "2020    -23.0\n",
       "2021    129.0\n",
       "2022    163.0\n",
       "Name: shipping_price, dtype: float64"
      ]
     },
     "execution_count": 18,
     "metadata": {},
     "output_type": "execute_result"
    }
   ],
   "source": [
    "freight_per_year = year[\"shipping_price\"].sum().round(2)\n",
    "freight_per_year = freight_per_year.pct_change().round(2) * 100\n",
    "freight_per_year"
   ]
  },
  {
   "cell_type": "markdown",
   "id": "b4c53739-e674-453b-9169-5f5531c19f09",
   "metadata": {},
   "source": [
    "- In 2021 and 2022, freight costs went up more than 120 percent, while imports in kilos went up by almost 40 percent. This is due to the supply chain issues during the pandemic. \n",
    "- These costs explain why is getting more expensive to import beer to Ecuador. As well why imports in USD grew more than imports in Kilos."
   ]
  },
  {
   "cell_type": "markdown",
   "id": "64b2a548-f96f-43b0-a4fd-be583a2e610c",
   "metadata": {},
   "source": [
    "#### Evolution of Freight Costs:"
   ]
  },
  {
   "cell_type": "code",
   "execution_count": 19,
   "id": "793ba635-308b-4d14-aad5-a259800b2415",
   "metadata": {},
   "outputs": [],
   "source": [
    "freight_costs = year[\"shipping_price\"].sum().round(2)\n",
    "quantity = year[\"weight_kilos\"].sum().round(2)"
   ]
  },
  {
   "cell_type": "code",
   "execution_count": 20,
   "id": "594c72a3-1bc0-4bc6-b2b5-f9f71f28d324",
   "metadata": {},
   "outputs": [],
   "source": [
    "def shipping_inflation(year): \n",
    "    x = (freight_costs[2022] - freight_costs[year]) / freight_costs[year] * 100\n",
    "    return x\n",
    "#This functions gives back to you by how much freights costs have gone up in 2022 relative to other years. "
   ]
  },
  {
   "cell_type": "code",
   "execution_count": 21,
   "id": "9b23c488-929e-433d-8930-92ed81944dec",
   "metadata": {},
   "outputs": [],
   "source": [
    "def quantity_growth(year): \n",
    "    y = (quantity[2022] - quantity[year]) / quantity[year] * 100\n",
    "    return y\n",
    "#This functions gives back to you by how much quantity imported has gone up in 2022 relative to other years. "
   ]
  },
  {
   "cell_type": "code",
   "execution_count": 22,
   "id": "b3251b77-e096-4977-ad6e-5a13bd826e8e",
   "metadata": {},
   "outputs": [
    {
     "data": {
      "text/plain": [
       "363.68707121882244"
      ]
     },
     "execution_count": 22,
     "metadata": {},
     "output_type": "execute_result"
    }
   ],
   "source": [
    "x = shipping_inflation(2019)\n",
    "x"
   ]
  },
  {
   "cell_type": "code",
   "execution_count": 23,
   "id": "22f9b9d4-8676-4304-88e1-abd7b2178218",
   "metadata": {},
   "outputs": [
    {
     "data": {
      "text/plain": [
       "106.68073505110496"
      ]
     },
     "execution_count": 23,
     "metadata": {},
     "output_type": "execute_result"
    }
   ],
   "source": [
    "y = quantity_growth(2019)\n",
    "y"
   ]
  },
  {
   "cell_type": "markdown",
   "id": "b2e48929-3e65-46ea-b347-bbc89fe345fd",
   "metadata": {},
   "source": [
    "- Since 2019, freight costs have gone up 363 percent. That is if we compared 2022 and 2019.\n",
    "- Since 2019, the quantity of beer imported has gone up by 106 percent in the same period. \n",
    "- That is to say, shipping prices have gone up not because we are importing more. It has gone up because it is more expensive. "
   ]
  },
  {
   "cell_type": "code",
   "execution_count": 24,
   "id": "cf1707b7-8498-4edb-a660-2ef5f0ade9a5",
   "metadata": {},
   "outputs": [],
   "source": [
    "dicto = {\n",
    "    \"Freight Costs\" : x,\n",
    "    \"Quantity Imported\" : y\n",
    "}\n",
    "\n",
    "evolution = pd.DataFrame(dicto, index = [\"\"])"
   ]
  },
  {
   "cell_type": "code",
   "execution_count": 25,
   "id": "27ef3e56-aca9-43be-8a8a-055da9dc27f4",
   "metadata": {},
   "outputs": [
    {
     "data": {
      "image/png": "[encoded data removed]",
      "text/plain": [
       "<Figure size 432x288 with 1 Axes>"
      ]
     },
     "metadata": {
      "needs_background": "light"
     },
     "output_type": "display_data"
    }
   ],
   "source": [
    "evolution.plot(kind = \"bar\", xlabel = \"Growth from 2022 to 2019\", ylabel = \"Growth in % terms\", color = [\"#C91D42\", \"#141F52\"], \n",
    "              title = \"Evolution of Freight Costs and Quantity Imported\", yticks = [100,200,300])\n",
    "plt.savefig(\"freight.png\", dpi=300, bbox_inches='tight')"
   ]
  },
  {
   "cell_type": "markdown",
   "id": "490f6c43-d4ee-43d5-aace-423037e153c7",
   "metadata": {},
   "source": [
    "### Which is leading company in beer importation?"
   ]
  },
  {
   "cell_type": "code",
   "execution_count": 26,
   "id": "2e2da26a-b0d0-45e1-a009-568be1766c27",
   "metadata": {},
   "outputs": [
    {
     "data": {
      "text/plain": [
       "company\n",
       "cerveceria nacional cn s.a.                            19938842.76\n",
       "biela y bebidas del ecuador s.a. bielesa                1274611.99\n",
       "distribuidora comercial del norte tricomnor s.a.        1103230.79\n",
       "tiendas industriales asociadas tia s. a.                 505866.47\n",
       "productos alimenticios y licores cia. ltda. proalco      189298.46\n",
       "Name: cif, dtype: float64"
      ]
     },
     "execution_count": 26,
     "metadata": {},
     "output_type": "execute_result"
    }
   ],
   "source": [
    "companies = cheers.groupby([\"year\", \"company\"])\n",
    "companies[\"cif\"].sum().sort_values(ascending=False).round(2).loc[2022].head()"
   ]
  },
  {
   "cell_type": "code",
   "execution_count": 27,
   "id": "6db9db31-ca86-44b1-baec-e3e072dd9e92",
   "metadata": {},
   "outputs": [],
   "source": [
    "y = companies[\"cif\"].sum().sort_values(ascending=False).round(2).loc[2022].head()\n",
    "y = y / 1000000\n",
    "names = [\"cervecería nacional\", \"bielesa\", \"tricomnor\", \"tia\", \"proalco\"]\n",
    "y.index = names"
   ]
  },
  {
   "cell_type": "code",
   "execution_count": 28,
   "id": "5a5fce81-dbcd-46f4-9269-9d10654bdfc4",
   "metadata": {},
   "outputs": [
    {
     "data": {
      "image/png": "[encoded data removed]",
      "text/plain": [
       "<Figure size 432x288 with 1 Axes>"
      ]
     },
     "metadata": {
      "needs_background": "light"
     },
     "output_type": "display_data"
    }
   ],
   "source": [
    "y.plot(kind = \"barh\", xlabel = \"companies\", ylabel = \"Imports by Company (USD Millions)\", color = [\"#333333\", \"#333333\", \"#333333\",\"#333333\", \"#141F52\"], \n",
    "      title = \"Which company imports the most?\\n USD Millions \", xticks = [3,6,9,12,15,18])\n",
    "plt.savefig(\"companies.png\", dpi=300, bbox_inches='tight')"
   ]
  },
  {
   "cell_type": "markdown",
   "id": "72b0fdb5-1943-42f0-81cb-d47b6553ff82",
   "metadata": {},
   "source": [
    "- Cervecería Nacional is by far the leading company. ($19 Millions USD of a total of 24 million for 2022.)"
   ]
  },
  {
   "cell_type": "markdown",
   "id": "5a935e57-a1d5-42ad-8448-707b27bd88f5",
   "metadata": {},
   "source": [
    "### Which beer do Ecuador imports the most?"
   ]
  },
  {
   "cell_type": "code",
   "execution_count": 29,
   "id": "aa117dea-a4df-4497-9dfe-dccaa0d17ce3",
   "metadata": {},
   "outputs": [],
   "source": [
    "to_ecu = cheers.groupby([\"year\", \"brand\"])"
   ]
  },
  {
   "cell_type": "code",
   "execution_count": 30,
   "id": "99db5f62-c60f-435a-90ee-22f1a4d67b8b",
   "metadata": {},
   "outputs": [
    {
     "data": {
      "text/plain": [
       "brand\n",
       "corona             10716284.32\n",
       "budweiser           3456846.52\n",
       "stella artois       2851111.51\n",
       "modelo especial     2072751.90\n",
       "sol                  829492.82\n",
       "Name: cif, dtype: float64"
      ]
     },
     "execution_count": 30,
     "metadata": {},
     "output_type": "execute_result"
    }
   ],
   "source": [
    "to_ecu[\"cif\"].sum().sort_values(ascending = False).loc[2022].head().round(2)"
   ]
  },
  {
   "cell_type": "code",
   "execution_count": 31,
   "id": "28e7ab10-1593-491a-85d9-72b5fbfc6842",
   "metadata": {},
   "outputs": [
    {
     "data": {
      "image/png": "[encoded data removed]",
      "text/plain": [
       "<Figure size 432x288 with 1 Axes>"
      ]
     },
     "metadata": {
      "needs_background": "light"
     },
     "output_type": "display_data"
    }
   ],
   "source": [
    "x = to_ecu[\"cif\"].sum().sort_values(ascending = False).loc[2022].head().round(2) / 1000000\n",
    "x.plot(kind = \"bar\", ylabel = \"USD Millions\", xlabel = \"Beer Brands\" , color = [\"#141F52\", \"#333333\", \"#595959\", \"#B3B3B3\", \"#D9D9D9\"],\n",
    "      yticks = [2,6,10], title = \"The Most Imported Beer\\n USD (CIF) \")\n",
    "plt.savefig(\"popularbeer.png\", dpi=300, bbox_inches='tight')"
   ]
  },
  {
   "cell_type": "markdown",
   "id": "07d6debb-4ac7-48dd-a770-a50b19dba07f",
   "metadata": {},
   "source": [
    "- Corona is the most imported beer in Ecuador"
   ]
  },
  {
   "cell_type": "markdown",
   "id": "467032c7-9cd8-4e39-af5e-89f422772255",
   "metadata": {},
   "source": [
    "### Where do beers come from?"
   ]
  },
  {
   "cell_type": "code",
   "execution_count": 32,
   "id": "ee6ffb6b-6718-4102-a268-c29b8e28af70",
   "metadata": {},
   "outputs": [
    {
     "data": {
      "text/plain": [
       "country_origin\n",
       "colombia          7984550.0\n",
       "mexico            6761310.0\n",
       "belgica           3446696.0\n",
       "países bajos      1998995.0\n",
       "estados unidos    1817541.0\n",
       "Name: cif, dtype: float64"
      ]
     },
     "execution_count": 32,
     "metadata": {},
     "output_type": "execute_result"
    }
   ],
   "source": [
    "x = cheers.groupby([\"year\", \"country_origin\"])\n",
    "x[\"cif\"].sum().sort_values(ascending=False).loc[2022].head().round()"
   ]
  },
  {
   "cell_type": "code",
   "execution_count": 33,
   "id": "a41ba273-b3ef-444c-ad4b-0b382f333dc8",
   "metadata": {},
   "outputs": [],
   "source": [
    "destination = x[\"cif\"].sum().sort_values(ascending=False).loc[2022].head().round() / 1000000"
   ]
  },
  {
   "cell_type": "code",
   "execution_count": 34,
   "id": "98d2878d-c181-45a4-9282-035865d14dd1",
   "metadata": {},
   "outputs": [
    {
     "data": {
      "image/png": "[encoded data removed]",
      "text/plain": [
       "<Figure size 432x288 with 1 Axes>"
      ]
     },
     "metadata": {
      "needs_background": "light"
     },
     "output_type": "display_data"
    }
   ],
   "source": [
    "y = destination.plot(kind = \"bar\", title = \"Where do beers come from?\\n Imports (CIF) per country\", ylabel = \"USD Millions\", xlabel = \"Countries\",\n",
    "                yticks = [2,4,6,8], color = [\"#141F52\", \"#333333\", \"#595959\", \"#B3B3B3\", \"#D9D9D9\"] )\n",
    "plt.savefig(\"country.png\", dpi=300, bbox_inches='tight')"
   ]
  },
  {
   "cell_type": "markdown",
   "id": "7db42ea8-34a9-4128-9fe4-b0a9d8b41f66",
   "metadata": {},
   "source": [
    "- In the first 8 months of 2022, beers come predominantly from Colombia and Mexico. That is because Corona is made in both countries. "
   ]
  }
 ],
 "metadata": {
  "kernelspec": {
   "display_name": "Python 3 (ipykernel)",
   "language": "python",
   "name": "python3"
  },
  "language_info": {
   "codemirror_mode": {
    "name": "ipython",
    "version": 3
   },
   "file_extension": ".py",
   "mimetype": "text/x-python",
   "name": "python",
   "nbconvert_exporter": "python",
   "pygments_lexer": "ipython3",
   "version": "3.9.7"
  }
 },
 "nbformat": 4,
 "nbformat_minor": 5
}
